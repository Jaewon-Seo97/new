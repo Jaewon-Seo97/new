{
 "cells": [
  {
   "cell_type": "code",
   "execution_count": 11,
   "metadata": {},
   "outputs": [],
   "source": [
    "import os, glob\n",
    "import matplotlib.pyplot as plt\n",
    "import pandas as pd\n",
    "import numpy as np\n",
    "from keras.models import load_model\n",
    "from sklearn.metrics import roc_auc_score,confusion_matrix,accuracy_score,ConfusionMatrixDisplay\n",
    "\n",
    "os.environ[\"CUDA_VISIBLE_DEVICES\"] = \"4,5\""
   ]
  },
  {
   "cell_type": "code",
   "execution_count": 2,
   "metadata": {},
   "outputs": [
    {
     "name": "stdout",
     "output_type": "stream",
     "text": [
      "Model: \"model_1\"\n",
      "__________________________________________________________________________________________________\n",
      "Layer (type)                    Output Shape         Param #     Connected to                     \n",
      "==================================================================================================\n",
      "input_1 (InputLayer)            (None, 32, 32, 1)    0                                            \n",
      "__________________________________________________________________________________________________\n",
      "conv2d_1 (Conv2D)               (None, 32, 32, 4)    40          input_1[0][0]                    \n",
      "__________________________________________________________________________________________________\n",
      "batch_normalization_1 (BatchNor (None, 32, 32, 4)    16          conv2d_1[0][0]                   \n",
      "__________________________________________________________________________________________________\n",
      "activation_1 (Activation)       (None, 32, 32, 4)    0           batch_normalization_1[0][0]      \n",
      "__________________________________________________________________________________________________\n",
      "max_pooling2d_1 (MaxPooling2D)  (None, 15, 15, 4)    0           activation_1[0][0]               \n",
      "__________________________________________________________________________________________________\n",
      "conv2d_2 (Conv2D)               (None, 15, 15, 8)    296         max_pooling2d_1[0][0]            \n",
      "__________________________________________________________________________________________________\n",
      "conv2d_3 (Conv2D)               (None, 15, 15, 8)    40          max_pooling2d_1[0][0]            \n",
      "__________________________________________________________________________________________________\n",
      "batch_normalization_2 (BatchNor (None, 15, 15, 8)    32          conv2d_2[0][0]                   \n",
      "__________________________________________________________________________________________________\n",
      "batch_normalization_3 (BatchNor (None, 15, 15, 8)    32          conv2d_3[0][0]                   \n",
      "__________________________________________________________________________________________________\n",
      "add_1 (Add)                     (None, 15, 15, 8)    0           batch_normalization_2[0][0]      \n",
      "                                                                 batch_normalization_3[0][0]      \n",
      "__________________________________________________________________________________________________\n",
      "activation_2 (Activation)       (None, 15, 15, 8)    0           add_1[0][0]                      \n",
      "__________________________________________________________________________________________________\n",
      "max_pooling2d_2 (MaxPooling2D)  (None, 7, 7, 8)      0           activation_2[0][0]               \n",
      "__________________________________________________________________________________________________\n",
      "conv2d_4 (Conv2D)               (None, 7, 7, 4)      292         max_pooling2d_2[0][0]            \n",
      "__________________________________________________________________________________________________\n",
      "batch_normalization_4 (BatchNor (None, 7, 7, 4)      16          conv2d_4[0][0]                   \n",
      "__________________________________________________________________________________________________\n",
      "activation_3 (Activation)       (None, 7, 7, 4)      0           batch_normalization_4[0][0]      \n",
      "__________________________________________________________________________________________________\n",
      "conv2d_5 (Conv2D)               (None, 7, 7, 2)      74          activation_3[0][0]               \n",
      "__________________________________________________________________________________________________\n",
      "batch_normalization_5 (BatchNor (None, 7, 7, 2)      8           conv2d_5[0][0]                   \n",
      "__________________________________________________________________________________________________\n",
      "activation_4 (Activation)       (None, 7, 7, 2)      0           batch_normalization_5[0][0]      \n",
      "__________________________________________________________________________________________________\n",
      "flatten_1 (Flatten)             (None, 98)           0           activation_4[0][0]               \n",
      "__________________________________________________________________________________________________\n",
      "dense_1 (Dense)                 (None, 1)            99          flatten_1[0][0]                  \n",
      "==================================================================================================\n",
      "Total params: 945\n",
      "Trainable params: 893\n",
      "Non-trainable params: 52\n",
      "__________________________________________________________________________________________________\n"
     ]
    }
   ],
   "source": [
    "model = load_model('./residual_class_32_bilinear_resized32_prox12.h5')\n",
    "model.summary()"
   ]
  },
  {
   "cell_type": "code",
   "execution_count": 4,
   "metadata": {},
   "outputs": [
    {
     "name": "stdout",
     "output_type": "stream",
     "text": [
      "loading data\n",
      "all_len:1624, train_len:1300, test_len:324\n"
     ]
    }
   ],
   "source": [
    "print(\"loading data\")\n",
    "\n",
    "abnormal = np.load('../../data/npy/abnormal_16to32.npy')\n",
    "normal = np.load('../../data/npy/normal_16to32.npy')\n",
    "\n",
    "all_len= abnormal.shape[0]+ normal.shape[0]\n",
    "test_len = int((all_len)/5)\n",
    "train_len = all_len - test_len\n",
    "\n",
    "print('all_len:{}, train_len:{}, test_len:{}'.format(all_len,train_len, test_len))\n",
    "img_train=np.ndarray((train_len,32,32,1), dtype=np.uint8)\n",
    "img_test=np.ndarray((test_len,32,32,1), dtype=np.uint8)\n",
    "lab_train=np.ndarray((train_len,1), dtype=np.uint8)\n",
    "lab_test=np.ndarray((test_len,1), dtype=np.uint8)\n",
    "for sp in range(0,int(all_len/2)):\n",
    "    if sp<train_len/2:\n",
    "        img_train[sp][:,:,:]=normal[sp][:,:,:]\n",
    "        lab_train[sp]=0\n",
    "        img_train[sp+int(train_len/2)][:,:,:]=abnormal[sp][:,:,:]\n",
    "        lab_train[sp+int(train_len/2)]=1\n",
    "        \n",
    "    else:\n",
    "\n",
    "        img_test[sp-int(train_len/2)][:,:,:]=normal[sp][:,:,:]\n",
    "        lab_test[sp-int(train_len/2)]=0\n",
    "        img_test[sp-int(train_len/2)+int(test_len/2)][:,:,:]=abnormal[sp][:,:,:]\n",
    "        lab_test[sp-int(train_len/2)+int(test_len/2)]=1"
   ]
  },
  {
   "cell_type": "code",
   "execution_count": 14,
   "metadata": {},
   "outputs": [
    {
     "name": "stdout",
     "output_type": "stream",
     "text": [
      "324/324 [==============================] - 0s 33us/step\n"
     ]
    }
   ],
   "source": [
    "test_results= model.predict(img_test, batch_size=128, verbose=1)"
   ]
  },
  {
   "cell_type": "code",
   "execution_count": 15,
   "metadata": {},
   "outputs": [],
   "source": [
    "binary_result=[]\n",
    "for tr in range(len(test_results)):\n",
    "    if test_results[tr]>0.5:\n",
    "        binary_result.append(1)\n",
    "    else:\n",
    "        binary_result.append(0)"
   ]
  },
  {
   "cell_type": "code",
   "execution_count": 16,
   "metadata": {},
   "outputs": [
    {
     "name": "stdout",
     "output_type": "stream",
     "text": [
      "130 32 7 155\n"
     ]
    },
    {
     "data": {
      "text/plain": [
       "<sklearn.metrics._plot.confusion_matrix.ConfusionMatrixDisplay at 0x7fa184479d30>"
      ]
     },
     "execution_count": 16,
     "metadata": {},
     "output_type": "execute_result"
    },
    {
     "data": {
      "image/png": "[encoded data removed]",
      "text/plain": [
       "<Figure size 432x288 with 2 Axes>"
      ]
     },
     "metadata": {
      "needs_background": "light"
     },
     "output_type": "display_data"
    }
   ],
   "source": [
    "tn, fp, fn, tp = confusion_matrix(lab_test, binary_result).ravel()\n",
    "print(tn, fp, fn, tp)\n",
    "cm = confusion_matrix(lab_test, binary_result)\n",
    "disp = ConfusionMatrixDisplay(confusion_matrix=cm)\n",
    "disp.plot()"
   ]
  },
  {
   "cell_type": "code",
   "execution_count": 17,
   "metadata": {},
   "outputs": [],
   "source": [
    "results= pd.DataFrame(test_results)\n",
    "results.to_csv('./210316/cnn+residual_probability.csv', index='cnn+residual', na_rep='NaN')"
   ]
  }
 ],
 "metadata": {
  "kernelspec": {
   "display_name": "Python 3",
   "language": "python",
   "name": "python3"
  },
  "language_info": {
   "codemirror_mode": {
    "name": "ipython",
    "version": 3
   },
   "file_extension": ".py",
   "mimetype": "text/x-python",
   "name": "python",
   "nbconvert_exporter": "python",
   "pygments_lexer": "ipython3",
   "version": "3.6.12"
  }
 },
 "nbformat": 4,
 "nbformat_minor": 4
}
